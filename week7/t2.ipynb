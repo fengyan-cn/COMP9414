{
 "cells": [
  {
   "cell_type": "markdown",
   "metadata": {},
   "source": [
    "# -*- coding: utf-8 -*-\n",
    "\"\"\"\n",
    "Created on Sun Jun 11 13:51:04 2023\n",
    "\n",
    "@author: MaryamHashemi\n",
    "\"\"\""
   ]
  },
  {
   "cell_type": "code",
   "execution_count": 40,
   "metadata": {},
   "outputs": [
    {
     "name": "stdout",
     "output_type": "stream",
     "text": [
      "[[[255 255 255]\n",
      "  [255 255 255]\n",
      "  [254 254 254]\n",
      "  ...\n",
      "  [  0   4   1]\n",
      "  [ 20   0   1]\n",
      "  [  5   0   2]]\n",
      "\n",
      " [[255 255 255]\n",
      "  [254 254 254]\n",
      "  [253 253 253]\n",
      "  ...\n",
      "  [  0  12   6]\n",
      "  [ 11   0   0]\n",
      "  [  3   2   4]]\n",
      "\n",
      " [[254 254 254]\n",
      "  [252 252 252]\n",
      "  [250 250 250]\n",
      "  ...\n",
      "  [ 31  83  76]\n",
      "  [ 13  12  14]\n",
      "  [  0   1   1]]\n",
      "\n",
      " ...\n",
      "\n",
      " [[241 241 241]\n",
      "  [233 233 233]\n",
      "  [220 220 220]\n",
      "  ...\n",
      "  [251 251 251]\n",
      "  [255 255 255]\n",
      "  [252 252 252]]\n",
      "\n",
      " [[244 244 244]\n",
      "  [239 239 239]\n",
      "  [231 231 231]\n",
      "  ...\n",
      "  [250 250 250]\n",
      "  [252 252 252]\n",
      "  [254 254 254]]\n",
      "\n",
      " [[249 249 249]\n",
      "  [245 245 245]\n",
      "  [239 239 239]\n",
      "  ...\n",
      "  [253 253 253]\n",
      "  [255 255 255]\n",
      "  [255 255 255]]]\n",
      "(490, 980, 3)\n"
     ]
    }
   ],
   "source": [
    "import numpy as np\n",
    "import cv2\n",
    "\n",
    "# %%\n",
    "############################### 3.1 Exercise #####################################\n",
    "\n",
    "############################ 3.1.1 ####################################\n",
    "\n",
    "# Reading RGB image\n",
    "img1 = cv2.imread(\"parrots.jpg\")\n",
    "\n",
    "cv2.imshow(\"Original image\", img1)\n",
    "print(img1)\n",
    "print(img1.shape)\n",
    "\n",
    "img1_red = img1.copy()\n",
    "# means \"select all rows, all columns, and the 3rd channel\n",
    "# (which is the red channel)\n",
    "img1_red[:, :, 2] = 255\n",
    "cv2.imshow(\"Original image in red\", img1_red)\n",
    "\n",
    "\n",
    "cv2.waitKey(0)\n",
    "cv2.destroyAllWindows()"
   ]
  },
  {
   "cell_type": "code",
   "execution_count": 41,
   "metadata": {},
   "outputs": [
    {
     "name": "stdout",
     "output_type": "stream",
     "text": [
      "[[255 255 254 ...   2   1   1]\n",
      " [255 254 253 ...   7   0   3]\n",
      " [254 252 250 ...  75  13   1]\n",
      " ...\n",
      " [241 233 220 ... 251 255 252]\n",
      " [244 239 231 ... 250 252 254]\n",
      " [249 245 239 ... 253 255 255]]\n",
      "(490, 980)\n"
     ]
    }
   ],
   "source": [
    "# 3.1.2 ####################################\n",
    "# Reading grey-scale image\n",
    "img2 = cv2.imread(\"parrots.jpg\", 0)\n",
    "cv2.imshow(\"Gray-scale image\", img2)\n",
    "print(img2)\n",
    "print(img2.shape)\n",
    "\n",
    "cv2.waitKey(0)\n",
    "cv2.destroyAllWindows()"
   ]
  },
  {
   "cell_type": "code",
   "execution_count": 42,
   "metadata": {},
   "outputs": [
    {
     "data": {
      "text/plain": [
       "True"
      ]
     },
     "execution_count": 42,
     "metadata": {},
     "output_type": "execute_result"
    }
   ],
   "source": [
    "############################ 3.1.3 ####################################\n",
    "\n",
    "cv2.imwrite(\"parrots_gray_test.jpg\", img2)"
   ]
  },
  {
   "cell_type": "code",
   "execution_count": 43,
   "metadata": {},
   "outputs": [
    {
     "name": "stdout",
     "output_type": "stream",
     "text": [
      "490 980\n"
     ]
    }
   ],
   "source": [
    "############################ 3.1.4 ####################################\n",
    "\n",
    "# img1 = cv2.imread('parrots.jpg')\n",
    "\n",
    "height = img1.shape[0]\n",
    "width = img1.shape[1]\n",
    "print(height, width)\n",
    "\n",
    "test = img1.copy()\n",
    "\n",
    "# Making frame\n",
    "# selects the first 75 rows of all columns.\n",
    "# = 255 sets all pixel values in this region to 255\n",
    "# (white for an 8-bit image).\n",
    "# This creates a horizontal white stripe at the top of the image.\n",
    "test[:75, :] = 255\n",
    "\n",
    "# selects all rows of the first 75 columns.\n",
    "test[:, :75] = 255\n",
    "test[height - 75 :, :] = 255\n",
    "test[:, width - 75 :] = 255\n",
    "\n",
    "cv2.imshow(\"Frame test\", test)\n",
    "cv2.imwrite(\"parrots_frame_test.jpg\", test)\n",
    "\n",
    "cv2.waitKey(0)\n",
    "cv2.destroyAllWindows()"
   ]
  },
  {
   "cell_type": "code",
   "execution_count": 44,
   "metadata": {},
   "outputs": [
    {
     "name": "stdout",
     "output_type": "stream",
     "text": [
      "[[11 46 45 ...  6 28 10]\n",
      " [ 8 40 20 ... 24  9 46]\n",
      " [33  8  9 ... 40  2 44]\n",
      " ...\n",
      " [17  1 11 ... 27  4 40]\n",
      " [16 37 15 ... 23 28 14]\n",
      " [15 41 26 ... 30 18  9]]\n"
     ]
    }
   ],
   "source": [
    "############################ 3.1.5 ####################################\n",
    "\n",
    "noise = np.random.random((height, width))\n",
    "noise = noise * 50\n",
    "noise = noise.astype(int)\n",
    "print(noise)\n",
    "\n",
    "cv2.imwrite(\"noise.jpg\", noise)\n",
    "noise = cv2.imread(\"noise.jpg\", 0)\n",
    "cv2.imshow(\"Noise\", noise)\n",
    "\n",
    "cv2.waitKey(0)\n",
    "cv2.destroyAllWindows()"
   ]
  },
  {
   "cell_type": "code",
   "execution_count": 45,
   "metadata": {},
   "outputs": [],
   "source": [
    "############################ 3.1.6 ####################################\n",
    "\n",
    "noiseimg = noise + img2\n",
    "result = cv2.imshow(\"Image noisy\", noiseimg)\n",
    "cv2.imwrite(\"parrots_noisy_test.jpg\", noiseimg)\n",
    "\n",
    "cv2.waitKey(0)\n",
    "cv2.destroyAllWindows()\n"
   ]
  },
  {
   "cell_type": "markdown",
   "metadata": {},
   "source": [
    "# -*- coding: utf-8 -*-\n",
    "\"\"\"\n",
    "Created on Sun Jun 11 13:51:04 2023\n",
    "\n",
    "@author: MaryamHashemi\n",
    "\"\"\"\n",
    "############################### 3.2 Exercise #####################################\n"
   ]
  },
  {
   "cell_type": "code",
   "execution_count": 46,
   "metadata": {},
   "outputs": [],
   "source": [
    "\n",
    "############################ 3.2.1 ####################################\n",
    "def mean_filter(image):\n",
    "    height = image.shape[0]\n",
    "    width = image.shape[1]\n",
    "    img = image.copy()\n",
    "    for i in range(height):\n",
    "        for j in range(width):\n",
    "            if i > 1 and j > 1 and i < height - 1 and j < width - 1:\n",
    "                a = image[i - 1, j - 1] / 8\n",
    "                b = image[i, j - 1] / 8\n",
    "                c = image[i - 1, j] / 8\n",
    "                d = image[i, j + 1] / 8\n",
    "                e = image[i + 1, j] / 8\n",
    "                f = image[i + 1, j + 1] / 8\n",
    "                g = image[i + 1, j - 1] / 8\n",
    "                h = image[i - 1, j + 1] / 8\n",
    "                n = a + b + c + d + e + f + g + h\n",
    "                #           print(img1[i-1,j-1],img1[i,j-1])\n",
    "                img[i, j] = int(n)\n",
    "\n",
    "    return cv2.imshow(\"Filtered image (mean)\", img)\n",
    "\n",
    "\n",
    "############################ 3.2.2 ####################################\n",
    "def median_filter(image):\n",
    "    height = image.shape[0]\n",
    "    width = image.shape[1]\n",
    "    img_prime = image.copy()\n",
    "    for i in range(height):\n",
    "        for j in range(width):\n",
    "            if i > 1 and j > 1 and i < height - 1 and j < width - 1:\n",
    "                a = [\n",
    "                    image[i, j],\n",
    "                    image[i + 1, j + 1],\n",
    "                    image[i - 1, j - 1],\n",
    "                    image[i, j + 1],\n",
    "                    image[i + 1, j],\n",
    "                    image[i - 1, j],\n",
    "                    image[i + 1, j - 1],\n",
    "                    image[i - 1, j + 1],\n",
    "                    image[i, j - 1],\n",
    "                ]\n",
    "                img_prime[i, j] = np.median(a)\n",
    "\n",
    "    return cv2.imshow(\"filtered image (median)\", img_prime)\n",
    "\n"
   ]
  },
  {
   "cell_type": "code",
   "execution_count": 47,
   "metadata": {},
   "outputs": [],
   "source": [
    "img1 = cv2.imread(\"parrots.jpg\", 0)\n",
    "cv2.imshow(\"Gray-scale image\", img1)\n",
    "cv2.waitKey(0)\n",
    "cv2.destroyAllWindows()"
   ]
  },
  {
   "cell_type": "code",
   "execution_count": 48,
   "metadata": {},
   "outputs": [],
   "source": [
    "\n",
    "img2 = cv2.imread(\"parrots_noisy_test.jpg\", 0)\n",
    "cv2.imshow(\"Image noisy\", img2)\n",
    "cv2.waitKey(0)\n",
    "cv2.destroyAllWindows()\n"
   ]
  },
  {
   "cell_type": "code",
   "execution_count": 49,
   "metadata": {},
   "outputs": [],
   "source": [
    "mean_filter(img2)\n",
    "cv2.waitKey(0)\n",
    "cv2.destroyAllWindows()"
   ]
  },
  {
   "cell_type": "code",
   "execution_count": 50,
   "metadata": {},
   "outputs": [],
   "source": [
    "median_filter(img2)\n",
    "cv2.waitKey(0)\n",
    "cv2.destroyAllWindows()"
   ]
  },
  {
   "cell_type": "code",
   "execution_count": 51,
   "metadata": {},
   "outputs": [],
   "source": [
    "############################ 3.2.3 ####################################\n",
    "window = 3\n",
    "\n",
    "# Apply the mean filter\n",
    "ksize = (window, window)  # Size of the filter kernel\n",
    "opencv_mean_image = cv2.blur(img2, ksize)\n",
    "\n",
    "\n",
    "# Apply the median filter\n",
    "ksize = window  # Size of the filter kernel (window size)\n",
    "opencv_median_image = cv2.medianBlur(img2, ksize)\n",
    "\n",
    "cv2.imshow(\"OpenCV filtered image (mean)\", opencv_mean_image)\n",
    "cv2.waitKey(0)\n",
    "cv2.destroyAllWindows()"
   ]
  },
  {
   "cell_type": "code",
   "execution_count": 52,
   "metadata": {},
   "outputs": [],
   "source": [
    "cv2.imshow(\"OpenCV filtered image (median)\", opencv_median_image)\n",
    "\n",
    "cv2.waitKey(0)\n",
    "cv2.destroyAllWindows()"
   ]
  },
  {
   "cell_type": "markdown",
   "metadata": {},
   "source": [
    "# -*- coding: utf-8 -*-\n",
    "\"\"\"\n",
    "Created on Sun Jun 11 13:51:04 2023\n",
    "\n",
    "@author: MaryamHashemi\n",
    "\"\"\"\n",
    "############################### 4.1 Exercise #####################################"
   ]
  },
  {
   "cell_type": "code",
   "execution_count": 53,
   "metadata": {},
   "outputs": [
    {
     "name": "stdout",
     "output_type": "stream",
     "text": [
      "frames per second = 25.0\n",
      "total number of frames = 3646\n",
      "duration of the video (in sec) = 145.84\n"
     ]
    }
   ],
   "source": [
    "############################ 4.1.1 ####################################\n",
    "\n",
    "# captures all the frames\n",
    "video = cv2.VideoCapture(\"tom_and_jerry.mp4\")\n",
    "\n",
    "# Check if video opened successfully\n",
    "if video.isOpened() == False:\n",
    "    print(\"Error opening video stream or file\")\n",
    "\n",
    "# fram/sec in video and duration of it\n",
    "fps = video.get(cv2.CAP_PROP_FPS)\n",
    "print(\"frames per second =\", fps)\n",
    "\n",
    "# total number of frames\n",
    "length = int(video.get(cv2.CAP_PROP_FRAME_COUNT))\n",
    "print(\"total number of frames =\", length)\n",
    "print(\"duration of the video (in sec) =\", length / fps)\n",
    "\n",
    "video.set(cv2.CAP_PROP_POS_FRAMES, 1002)\n",
    "# \"ret\" indicates whether the frame was successfully captured or not.\n",
    "ret, frame = video.read()\n",
    "cv2.imshow(\"Frame 1002\", frame)\n",
    "\n",
    "cv2.waitKey(0)\n",
    "cv2.destroyAllWindows()"
   ]
  },
  {
   "cell_type": "code",
   "execution_count": 54,
   "metadata": {},
   "outputs": [],
   "source": [
    "############################ 4.1.2 ####################################\n",
    "\n",
    "# Read until video is completed\n",
    "while video.isOpened():\n",
    "    # Capture frame-by-frame\n",
    "    ret, frame = video.read()\n",
    "    if ret == True:\n",
    "        # Display the resulting frame\n",
    "        cv2.imshow(\"Original video\", frame)\n",
    "\n",
    "        # framegray=cv2.cvtColor(frame,cv2.COLOR_BGR2GRAY)\n",
    "        # 100 and 200 are lower and upper threshold\n",
    "        framegray = cv2.Canny(frame, 100, 200)\n",
    "        cv2.imshow(\"Filtered video\", framegray)\n",
    "\n",
    "        if (\n",
    "            cv2.waitKey(1) == 27\n",
    "        ):  # wait for ESC key to exit, 27 is the escape key number\n",
    "            break\n",
    "\n",
    "    # Break the loop\n",
    "    else:\n",
    "        break\n",
    "\n",
    "# When everything done, release the video capture object\n",
    "video.release()\n",
    "\n",
    "# Closes all the frames\n",
    "cv2.destroyAllWindows()"
   ]
  },
  {
   "cell_type": "markdown",
   "metadata": {},
   "source": [
    "# -*- coding: utf-8 -*-\n",
    "\"\"\"\n",
    "Created on Sun Jun 11 13:51:04 2023\n",
    "\n",
    "@author: Maryam Hashemi\n",
    "\"\"\"\n",
    "############################### 5.1 Exercise #####################################"
   ]
  },
  {
   "cell_type": "code",
   "execution_count": 16,
   "metadata": {},
   "outputs": [
    {
     "name": "stderr",
     "output_type": "stream",
     "text": [
      "c:\\anaconda\\envs\\opencv_env\\lib\\site-packages\\h5py\\__init__.py:36: UserWarning: h5py is running against HDF5 1.14.3 when it was built against 1.14.2, this may cause problems\n",
      "  _warn((\"h5py is running against HDF5 {0} when it was built against {1}, \"\n"
     ]
    }
   ],
   "source": [
    "############################ 5.1.2 ####################################\n",
    "\n",
    "# %%\n",
    "# import tensorflow_datasets as tfds\n",
    "from tensorflow.keras.utils import to_categorical\n",
    "import tensorflow as tf\n",
    "import datetime\n",
    "import matplotlib.pyplot as plt\n",
    "from tensorflow.keras.callbacks import EarlyStopping\n",
    "\n",
    "# import cv2\n",
    "\n",
    "\n",
    "# %%\n",
    "## Loading MNIST dataset\n",
    "(train_ds, train_labels), (test_ds, test_labels) = tf.keras.datasets.mnist.load_data()\n",
    "\n",
    "\n",
    "## MNIST dataset images are 28*28, and they are between 0-255.\n",
    "# Preprocessing part 1\n",
    "train_ds = train_ds / 255.0\n",
    "test_ds = test_ds / 255.0\n",
    "\n",
    "## Transforming labels\n",
    "# Neural networks, especially those using categorical cross-entropy loss, require the labels to be in a one-hot encoded\n",
    "# format rather than as single integers. One-hot encoding converts the integer labels into binary vectors. \n",
    "# Each vector has a length equal to the number of classes, and all elements are 0 except for the position corresponding to the label, which is 1.\n",
    "# What Happens?\n",
    "# For a label like 3, to_categorical will transform it from an integer to a one-hot encoded vector like [0, 0, 0, 1, 0, 0, 0, 0, 0, 0].\n",
    "# For a label like 7, to_categorical will transform it to [0, 0, 0, 0, 0, 0, 0, 1, 0, 0].\n",
    "train_labels = to_categorical(train_labels, num_classes=10)\n",
    "test_labels = to_categorical(test_labels, num_classes=10)"
   ]
  },
  {
   "cell_type": "code",
   "execution_count": 17,
   "metadata": {},
   "outputs": [],
   "source": [
    "############################ 5.1.3 ####################################\n",
    "\n",
    "from tensorflow.keras.applications.vgg16 import VGG16\n",
    "from tensorflow.keras.applications.vgg16 import preprocess_input\n",
    "\n",
    "# VGG16: This is a pre-trained model from the Keras applications module. VGG16 is a deep convolutional neural network originally trained on the ImageNet dataset.\n",
    "# weights=\"imagenet\": This parameter specifies that the model should load weights that were pre-trained on the ImageNet dataset, a large dataset used for image classification.\n",
    "# include_top=False: This parameter excludes the fully connected layers (the top of the network) which are responsible for the classification task in the original VGG16 model.\n",
    "# By setting this to False, only the convolutional base of the VGG16 model is loaded.\n",
    "# input_shape=(32, 32, 3): This defines the shape of the input images. In this case, the images are 32x32 pixels with 3 color channels (RGB).\n",
    "# base_model.trainable = False: This freezes the weights of the pre-trained model so they won't be updated during training.\n",
    "# This is useful when you want to use the pre-trained features without modifying them, which can save time and prevent overfitting, especially when you have a small dataset.\n",
    "\n",
    "## Loading VGG16 model\n",
    "base_model = VGG16(weights=\"imagenet\", include_top=False, input_shape=(32, 32, 3))\n",
    "base_model.trainable = False  ## Not trainable weights\n",
    "\n",
    "## Preprocessing part 2\n",
    "train_ds = tf.image.grayscale_to_rgb(tf.expand_dims(train_ds, -1))\n",
    "train_ds = tf.image.resize(train_ds, (32, 32))\n",
    "# preprocess_input(train_ds): This function applies the preprocessing steps specific to the VGG16 model.\n",
    "# It adjusts the pixel values to the format that the model was trained on, including scaling the input pixels.\n",
    "train_ds = preprocess_input(train_ds)\n",
    "\n",
    "test_ds = tf.image.grayscale_to_rgb(tf.expand_dims(test_ds, -1))\n",
    "test_ds = tf.image.resize(test_ds, (32, 32))\n",
    "test_ds = preprocess_input(test_ds)\n"
   ]
  },
  {
   "cell_type": "code",
   "execution_count": 18,
   "metadata": {},
   "outputs": [
    {
     "data": {
      "text/html": [
       "<pre style=\"white-space:pre;overflow-x:auto;line-height:normal;font-family:Menlo,'DejaVu Sans Mono',consolas,'Courier New',monospace\"><span style=\"font-weight: bold\">Model: \"vgg16\"</span>\n",
       "</pre>\n"
      ],
      "text/plain": [
       "\u001b[1mModel: \"vgg16\"\u001b[0m\n"
      ]
     },
     "metadata": {},
     "output_type": "display_data"
    },
    {
     "data": {
      "text/html": [
       "<pre style=\"white-space:pre;overflow-x:auto;line-height:normal;font-family:Menlo,'DejaVu Sans Mono',consolas,'Courier New',monospace\">┏━━━━━━━━━━━━━━━━━━━━━━━━━━━━━━━━━┳━━━━━━━━━━━━━━━━━━━━━━━━┳━━━━━━━━━━━━━━━┓\n",
       "┃<span style=\"font-weight: bold\"> Layer (type)                    </span>┃<span style=\"font-weight: bold\"> Output Shape           </span>┃<span style=\"font-weight: bold\">       Param # </span>┃\n",
       "┡━━━━━━━━━━━━━━━━━━━━━━━━━━━━━━━━━╇━━━━━━━━━━━━━━━━━━━━━━━━╇━━━━━━━━━━━━━━━┩\n",
       "│ input_layer (<span style=\"color: #0087ff; text-decoration-color: #0087ff\">InputLayer</span>)        │ (<span style=\"color: #00d7ff; text-decoration-color: #00d7ff\">None</span>, <span style=\"color: #00af00; text-decoration-color: #00af00\">32</span>, <span style=\"color: #00af00; text-decoration-color: #00af00\">32</span>, <span style=\"color: #00af00; text-decoration-color: #00af00\">3</span>)      │             <span style=\"color: #00af00; text-decoration-color: #00af00\">0</span> │\n",
       "├─────────────────────────────────┼────────────────────────┼───────────────┤\n",
       "│ block1_conv1 (<span style=\"color: #0087ff; text-decoration-color: #0087ff\">Conv2D</span>)           │ (<span style=\"color: #00d7ff; text-decoration-color: #00d7ff\">None</span>, <span style=\"color: #00af00; text-decoration-color: #00af00\">32</span>, <span style=\"color: #00af00; text-decoration-color: #00af00\">32</span>, <span style=\"color: #00af00; text-decoration-color: #00af00\">64</span>)     │         <span style=\"color: #00af00; text-decoration-color: #00af00\">1,792</span> │\n",
       "├─────────────────────────────────┼────────────────────────┼───────────────┤\n",
       "│ block1_conv2 (<span style=\"color: #0087ff; text-decoration-color: #0087ff\">Conv2D</span>)           │ (<span style=\"color: #00d7ff; text-decoration-color: #00d7ff\">None</span>, <span style=\"color: #00af00; text-decoration-color: #00af00\">32</span>, <span style=\"color: #00af00; text-decoration-color: #00af00\">32</span>, <span style=\"color: #00af00; text-decoration-color: #00af00\">64</span>)     │        <span style=\"color: #00af00; text-decoration-color: #00af00\">36,928</span> │\n",
       "├─────────────────────────────────┼────────────────────────┼───────────────┤\n",
       "│ block1_pool (<span style=\"color: #0087ff; text-decoration-color: #0087ff\">MaxPooling2D</span>)      │ (<span style=\"color: #00d7ff; text-decoration-color: #00d7ff\">None</span>, <span style=\"color: #00af00; text-decoration-color: #00af00\">16</span>, <span style=\"color: #00af00; text-decoration-color: #00af00\">16</span>, <span style=\"color: #00af00; text-decoration-color: #00af00\">64</span>)     │             <span style=\"color: #00af00; text-decoration-color: #00af00\">0</span> │\n",
       "├─────────────────────────────────┼────────────────────────┼───────────────┤\n",
       "│ block2_conv1 (<span style=\"color: #0087ff; text-decoration-color: #0087ff\">Conv2D</span>)           │ (<span style=\"color: #00d7ff; text-decoration-color: #00d7ff\">None</span>, <span style=\"color: #00af00; text-decoration-color: #00af00\">16</span>, <span style=\"color: #00af00; text-decoration-color: #00af00\">16</span>, <span style=\"color: #00af00; text-decoration-color: #00af00\">128</span>)    │        <span style=\"color: #00af00; text-decoration-color: #00af00\">73,856</span> │\n",
       "├─────────────────────────────────┼────────────────────────┼───────────────┤\n",
       "│ block2_conv2 (<span style=\"color: #0087ff; text-decoration-color: #0087ff\">Conv2D</span>)           │ (<span style=\"color: #00d7ff; text-decoration-color: #00d7ff\">None</span>, <span style=\"color: #00af00; text-decoration-color: #00af00\">16</span>, <span style=\"color: #00af00; text-decoration-color: #00af00\">16</span>, <span style=\"color: #00af00; text-decoration-color: #00af00\">128</span>)    │       <span style=\"color: #00af00; text-decoration-color: #00af00\">147,584</span> │\n",
       "├─────────────────────────────────┼────────────────────────┼───────────────┤\n",
       "│ block2_pool (<span style=\"color: #0087ff; text-decoration-color: #0087ff\">MaxPooling2D</span>)      │ (<span style=\"color: #00d7ff; text-decoration-color: #00d7ff\">None</span>, <span style=\"color: #00af00; text-decoration-color: #00af00\">8</span>, <span style=\"color: #00af00; text-decoration-color: #00af00\">8</span>, <span style=\"color: #00af00; text-decoration-color: #00af00\">128</span>)      │             <span style=\"color: #00af00; text-decoration-color: #00af00\">0</span> │\n",
       "├─────────────────────────────────┼────────────────────────┼───────────────┤\n",
       "│ block3_conv1 (<span style=\"color: #0087ff; text-decoration-color: #0087ff\">Conv2D</span>)           │ (<span style=\"color: #00d7ff; text-decoration-color: #00d7ff\">None</span>, <span style=\"color: #00af00; text-decoration-color: #00af00\">8</span>, <span style=\"color: #00af00; text-decoration-color: #00af00\">8</span>, <span style=\"color: #00af00; text-decoration-color: #00af00\">256</span>)      │       <span style=\"color: #00af00; text-decoration-color: #00af00\">295,168</span> │\n",
       "├─────────────────────────────────┼────────────────────────┼───────────────┤\n",
       "│ block3_conv2 (<span style=\"color: #0087ff; text-decoration-color: #0087ff\">Conv2D</span>)           │ (<span style=\"color: #00d7ff; text-decoration-color: #00d7ff\">None</span>, <span style=\"color: #00af00; text-decoration-color: #00af00\">8</span>, <span style=\"color: #00af00; text-decoration-color: #00af00\">8</span>, <span style=\"color: #00af00; text-decoration-color: #00af00\">256</span>)      │       <span style=\"color: #00af00; text-decoration-color: #00af00\">590,080</span> │\n",
       "├─────────────────────────────────┼────────────────────────┼───────────────┤\n",
       "│ block3_conv3 (<span style=\"color: #0087ff; text-decoration-color: #0087ff\">Conv2D</span>)           │ (<span style=\"color: #00d7ff; text-decoration-color: #00d7ff\">None</span>, <span style=\"color: #00af00; text-decoration-color: #00af00\">8</span>, <span style=\"color: #00af00; text-decoration-color: #00af00\">8</span>, <span style=\"color: #00af00; text-decoration-color: #00af00\">256</span>)      │       <span style=\"color: #00af00; text-decoration-color: #00af00\">590,080</span> │\n",
       "├─────────────────────────────────┼────────────────────────┼───────────────┤\n",
       "│ block3_pool (<span style=\"color: #0087ff; text-decoration-color: #0087ff\">MaxPooling2D</span>)      │ (<span style=\"color: #00d7ff; text-decoration-color: #00d7ff\">None</span>, <span style=\"color: #00af00; text-decoration-color: #00af00\">4</span>, <span style=\"color: #00af00; text-decoration-color: #00af00\">4</span>, <span style=\"color: #00af00; text-decoration-color: #00af00\">256</span>)      │             <span style=\"color: #00af00; text-decoration-color: #00af00\">0</span> │\n",
       "├─────────────────────────────────┼────────────────────────┼───────────────┤\n",
       "│ block4_conv1 (<span style=\"color: #0087ff; text-decoration-color: #0087ff\">Conv2D</span>)           │ (<span style=\"color: #00d7ff; text-decoration-color: #00d7ff\">None</span>, <span style=\"color: #00af00; text-decoration-color: #00af00\">4</span>, <span style=\"color: #00af00; text-decoration-color: #00af00\">4</span>, <span style=\"color: #00af00; text-decoration-color: #00af00\">512</span>)      │     <span style=\"color: #00af00; text-decoration-color: #00af00\">1,180,160</span> │\n",
       "├─────────────────────────────────┼────────────────────────┼───────────────┤\n",
       "│ block4_conv2 (<span style=\"color: #0087ff; text-decoration-color: #0087ff\">Conv2D</span>)           │ (<span style=\"color: #00d7ff; text-decoration-color: #00d7ff\">None</span>, <span style=\"color: #00af00; text-decoration-color: #00af00\">4</span>, <span style=\"color: #00af00; text-decoration-color: #00af00\">4</span>, <span style=\"color: #00af00; text-decoration-color: #00af00\">512</span>)      │     <span style=\"color: #00af00; text-decoration-color: #00af00\">2,359,808</span> │\n",
       "├─────────────────────────────────┼────────────────────────┼───────────────┤\n",
       "│ block4_conv3 (<span style=\"color: #0087ff; text-decoration-color: #0087ff\">Conv2D</span>)           │ (<span style=\"color: #00d7ff; text-decoration-color: #00d7ff\">None</span>, <span style=\"color: #00af00; text-decoration-color: #00af00\">4</span>, <span style=\"color: #00af00; text-decoration-color: #00af00\">4</span>, <span style=\"color: #00af00; text-decoration-color: #00af00\">512</span>)      │     <span style=\"color: #00af00; text-decoration-color: #00af00\">2,359,808</span> │\n",
       "├─────────────────────────────────┼────────────────────────┼───────────────┤\n",
       "│ block4_pool (<span style=\"color: #0087ff; text-decoration-color: #0087ff\">MaxPooling2D</span>)      │ (<span style=\"color: #00d7ff; text-decoration-color: #00d7ff\">None</span>, <span style=\"color: #00af00; text-decoration-color: #00af00\">2</span>, <span style=\"color: #00af00; text-decoration-color: #00af00\">2</span>, <span style=\"color: #00af00; text-decoration-color: #00af00\">512</span>)      │             <span style=\"color: #00af00; text-decoration-color: #00af00\">0</span> │\n",
       "├─────────────────────────────────┼────────────────────────┼───────────────┤\n",
       "│ block5_conv1 (<span style=\"color: #0087ff; text-decoration-color: #0087ff\">Conv2D</span>)           │ (<span style=\"color: #00d7ff; text-decoration-color: #00d7ff\">None</span>, <span style=\"color: #00af00; text-decoration-color: #00af00\">2</span>, <span style=\"color: #00af00; text-decoration-color: #00af00\">2</span>, <span style=\"color: #00af00; text-decoration-color: #00af00\">512</span>)      │     <span style=\"color: #00af00; text-decoration-color: #00af00\">2,359,808</span> │\n",
       "├─────────────────────────────────┼────────────────────────┼───────────────┤\n",
       "│ block5_conv2 (<span style=\"color: #0087ff; text-decoration-color: #0087ff\">Conv2D</span>)           │ (<span style=\"color: #00d7ff; text-decoration-color: #00d7ff\">None</span>, <span style=\"color: #00af00; text-decoration-color: #00af00\">2</span>, <span style=\"color: #00af00; text-decoration-color: #00af00\">2</span>, <span style=\"color: #00af00; text-decoration-color: #00af00\">512</span>)      │     <span style=\"color: #00af00; text-decoration-color: #00af00\">2,359,808</span> │\n",
       "├─────────────────────────────────┼────────────────────────┼───────────────┤\n",
       "│ block5_conv3 (<span style=\"color: #0087ff; text-decoration-color: #0087ff\">Conv2D</span>)           │ (<span style=\"color: #00d7ff; text-decoration-color: #00d7ff\">None</span>, <span style=\"color: #00af00; text-decoration-color: #00af00\">2</span>, <span style=\"color: #00af00; text-decoration-color: #00af00\">2</span>, <span style=\"color: #00af00; text-decoration-color: #00af00\">512</span>)      │     <span style=\"color: #00af00; text-decoration-color: #00af00\">2,359,808</span> │\n",
       "├─────────────────────────────────┼────────────────────────┼───────────────┤\n",
       "│ block5_pool (<span style=\"color: #0087ff; text-decoration-color: #0087ff\">MaxPooling2D</span>)      │ (<span style=\"color: #00d7ff; text-decoration-color: #00d7ff\">None</span>, <span style=\"color: #00af00; text-decoration-color: #00af00\">1</span>, <span style=\"color: #00af00; text-decoration-color: #00af00\">1</span>, <span style=\"color: #00af00; text-decoration-color: #00af00\">512</span>)      │             <span style=\"color: #00af00; text-decoration-color: #00af00\">0</span> │\n",
       "└─────────────────────────────────┴────────────────────────┴───────────────┘\n",
       "</pre>\n"
      ],
      "text/plain": [
       "┏━━━━━━━━━━━━━━━━━━━━━━━━━━━━━━━━━┳━━━━━━━━━━━━━━━━━━━━━━━━┳━━━━━━━━━━━━━━━┓\n",
       "┃\u001b[1m \u001b[0m\u001b[1mLayer (type)                   \u001b[0m\u001b[1m \u001b[0m┃\u001b[1m \u001b[0m\u001b[1mOutput Shape          \u001b[0m\u001b[1m \u001b[0m┃\u001b[1m \u001b[0m\u001b[1m      Param #\u001b[0m\u001b[1m \u001b[0m┃\n",
       "┡━━━━━━━━━━━━━━━━━━━━━━━━━━━━━━━━━╇━━━━━━━━━━━━━━━━━━━━━━━━╇━━━━━━━━━━━━━━━┩\n",
       "│ input_layer (\u001b[38;5;33mInputLayer\u001b[0m)        │ (\u001b[38;5;45mNone\u001b[0m, \u001b[38;5;34m32\u001b[0m, \u001b[38;5;34m32\u001b[0m, \u001b[38;5;34m3\u001b[0m)      │             \u001b[38;5;34m0\u001b[0m │\n",
       "├─────────────────────────────────┼────────────────────────┼───────────────┤\n",
       "│ block1_conv1 (\u001b[38;5;33mConv2D\u001b[0m)           │ (\u001b[38;5;45mNone\u001b[0m, \u001b[38;5;34m32\u001b[0m, \u001b[38;5;34m32\u001b[0m, \u001b[38;5;34m64\u001b[0m)     │         \u001b[38;5;34m1,792\u001b[0m │\n",
       "├─────────────────────────────────┼────────────────────────┼───────────────┤\n",
       "│ block1_conv2 (\u001b[38;5;33mConv2D\u001b[0m)           │ (\u001b[38;5;45mNone\u001b[0m, \u001b[38;5;34m32\u001b[0m, \u001b[38;5;34m32\u001b[0m, \u001b[38;5;34m64\u001b[0m)     │        \u001b[38;5;34m36,928\u001b[0m │\n",
       "├─────────────────────────────────┼────────────────────────┼───────────────┤\n",
       "│ block1_pool (\u001b[38;5;33mMaxPooling2D\u001b[0m)      │ (\u001b[38;5;45mNone\u001b[0m, \u001b[38;5;34m16\u001b[0m, \u001b[38;5;34m16\u001b[0m, \u001b[38;5;34m64\u001b[0m)     │             \u001b[38;5;34m0\u001b[0m │\n",
       "├─────────────────────────────────┼────────────────────────┼───────────────┤\n",
       "│ block2_conv1 (\u001b[38;5;33mConv2D\u001b[0m)           │ (\u001b[38;5;45mNone\u001b[0m, \u001b[38;5;34m16\u001b[0m, \u001b[38;5;34m16\u001b[0m, \u001b[38;5;34m128\u001b[0m)    │        \u001b[38;5;34m73,856\u001b[0m │\n",
       "├─────────────────────────────────┼────────────────────────┼───────────────┤\n",
       "│ block2_conv2 (\u001b[38;5;33mConv2D\u001b[0m)           │ (\u001b[38;5;45mNone\u001b[0m, \u001b[38;5;34m16\u001b[0m, \u001b[38;5;34m16\u001b[0m, \u001b[38;5;34m128\u001b[0m)    │       \u001b[38;5;34m147,584\u001b[0m │\n",
       "├─────────────────────────────────┼────────────────────────┼───────────────┤\n",
       "│ block2_pool (\u001b[38;5;33mMaxPooling2D\u001b[0m)      │ (\u001b[38;5;45mNone\u001b[0m, \u001b[38;5;34m8\u001b[0m, \u001b[38;5;34m8\u001b[0m, \u001b[38;5;34m128\u001b[0m)      │             \u001b[38;5;34m0\u001b[0m │\n",
       "├─────────────────────────────────┼────────────────────────┼───────────────┤\n",
       "│ block3_conv1 (\u001b[38;5;33mConv2D\u001b[0m)           │ (\u001b[38;5;45mNone\u001b[0m, \u001b[38;5;34m8\u001b[0m, \u001b[38;5;34m8\u001b[0m, \u001b[38;5;34m256\u001b[0m)      │       \u001b[38;5;34m295,168\u001b[0m │\n",
       "├─────────────────────────────────┼────────────────────────┼───────────────┤\n",
       "│ block3_conv2 (\u001b[38;5;33mConv2D\u001b[0m)           │ (\u001b[38;5;45mNone\u001b[0m, \u001b[38;5;34m8\u001b[0m, \u001b[38;5;34m8\u001b[0m, \u001b[38;5;34m256\u001b[0m)      │       \u001b[38;5;34m590,080\u001b[0m │\n",
       "├─────────────────────────────────┼────────────────────────┼───────────────┤\n",
       "│ block3_conv3 (\u001b[38;5;33mConv2D\u001b[0m)           │ (\u001b[38;5;45mNone\u001b[0m, \u001b[38;5;34m8\u001b[0m, \u001b[38;5;34m8\u001b[0m, \u001b[38;5;34m256\u001b[0m)      │       \u001b[38;5;34m590,080\u001b[0m │\n",
       "├─────────────────────────────────┼────────────────────────┼───────────────┤\n",
       "│ block3_pool (\u001b[38;5;33mMaxPooling2D\u001b[0m)      │ (\u001b[38;5;45mNone\u001b[0m, \u001b[38;5;34m4\u001b[0m, \u001b[38;5;34m4\u001b[0m, \u001b[38;5;34m256\u001b[0m)      │             \u001b[38;5;34m0\u001b[0m │\n",
       "├─────────────────────────────────┼────────────────────────┼───────────────┤\n",
       "│ block4_conv1 (\u001b[38;5;33mConv2D\u001b[0m)           │ (\u001b[38;5;45mNone\u001b[0m, \u001b[38;5;34m4\u001b[0m, \u001b[38;5;34m4\u001b[0m, \u001b[38;5;34m512\u001b[0m)      │     \u001b[38;5;34m1,180,160\u001b[0m │\n",
       "├─────────────────────────────────┼────────────────────────┼───────────────┤\n",
       "│ block4_conv2 (\u001b[38;5;33mConv2D\u001b[0m)           │ (\u001b[38;5;45mNone\u001b[0m, \u001b[38;5;34m4\u001b[0m, \u001b[38;5;34m4\u001b[0m, \u001b[38;5;34m512\u001b[0m)      │     \u001b[38;5;34m2,359,808\u001b[0m │\n",
       "├─────────────────────────────────┼────────────────────────┼───────────────┤\n",
       "│ block4_conv3 (\u001b[38;5;33mConv2D\u001b[0m)           │ (\u001b[38;5;45mNone\u001b[0m, \u001b[38;5;34m4\u001b[0m, \u001b[38;5;34m4\u001b[0m, \u001b[38;5;34m512\u001b[0m)      │     \u001b[38;5;34m2,359,808\u001b[0m │\n",
       "├─────────────────────────────────┼────────────────────────┼───────────────┤\n",
       "│ block4_pool (\u001b[38;5;33mMaxPooling2D\u001b[0m)      │ (\u001b[38;5;45mNone\u001b[0m, \u001b[38;5;34m2\u001b[0m, \u001b[38;5;34m2\u001b[0m, \u001b[38;5;34m512\u001b[0m)      │             \u001b[38;5;34m0\u001b[0m │\n",
       "├─────────────────────────────────┼────────────────────────┼───────────────┤\n",
       "│ block5_conv1 (\u001b[38;5;33mConv2D\u001b[0m)           │ (\u001b[38;5;45mNone\u001b[0m, \u001b[38;5;34m2\u001b[0m, \u001b[38;5;34m2\u001b[0m, \u001b[38;5;34m512\u001b[0m)      │     \u001b[38;5;34m2,359,808\u001b[0m │\n",
       "├─────────────────────────────────┼────────────────────────┼───────────────┤\n",
       "│ block5_conv2 (\u001b[38;5;33mConv2D\u001b[0m)           │ (\u001b[38;5;45mNone\u001b[0m, \u001b[38;5;34m2\u001b[0m, \u001b[38;5;34m2\u001b[0m, \u001b[38;5;34m512\u001b[0m)      │     \u001b[38;5;34m2,359,808\u001b[0m │\n",
       "├─────────────────────────────────┼────────────────────────┼───────────────┤\n",
       "│ block5_conv3 (\u001b[38;5;33mConv2D\u001b[0m)           │ (\u001b[38;5;45mNone\u001b[0m, \u001b[38;5;34m2\u001b[0m, \u001b[38;5;34m2\u001b[0m, \u001b[38;5;34m512\u001b[0m)      │     \u001b[38;5;34m2,359,808\u001b[0m │\n",
       "├─────────────────────────────────┼────────────────────────┼───────────────┤\n",
       "│ block5_pool (\u001b[38;5;33mMaxPooling2D\u001b[0m)      │ (\u001b[38;5;45mNone\u001b[0m, \u001b[38;5;34m1\u001b[0m, \u001b[38;5;34m1\u001b[0m, \u001b[38;5;34m512\u001b[0m)      │             \u001b[38;5;34m0\u001b[0m │\n",
       "└─────────────────────────────────┴────────────────────────┴───────────────┘\n"
      ]
     },
     "metadata": {},
     "output_type": "display_data"
    },
    {
     "data": {
      "text/html": [
       "<pre style=\"white-space:pre;overflow-x:auto;line-height:normal;font-family:Menlo,'DejaVu Sans Mono',consolas,'Courier New',monospace\"><span style=\"font-weight: bold\"> Total params: </span><span style=\"color: #00af00; text-decoration-color: #00af00\">14,714,688</span> (56.13 MB)\n",
       "</pre>\n"
      ],
      "text/plain": [
       "\u001b[1m Total params: \u001b[0m\u001b[38;5;34m14,714,688\u001b[0m (56.13 MB)\n"
      ]
     },
     "metadata": {},
     "output_type": "display_data"
    },
    {
     "data": {
      "text/html": [
       "<pre style=\"white-space:pre;overflow-x:auto;line-height:normal;font-family:Menlo,'DejaVu Sans Mono',consolas,'Courier New',monospace\"><span style=\"font-weight: bold\"> Trainable params: </span><span style=\"color: #00af00; text-decoration-color: #00af00\">0</span> (0.00 B)\n",
       "</pre>\n"
      ],
      "text/plain": [
       "\u001b[1m Trainable params: \u001b[0m\u001b[38;5;34m0\u001b[0m (0.00 B)\n"
      ]
     },
     "metadata": {},
     "output_type": "display_data"
    },
    {
     "data": {
      "text/html": [
       "<pre style=\"white-space:pre;overflow-x:auto;line-height:normal;font-family:Menlo,'DejaVu Sans Mono',consolas,'Courier New',monospace\"><span style=\"font-weight: bold\"> Non-trainable params: </span><span style=\"color: #00af00; text-decoration-color: #00af00\">14,714,688</span> (56.13 MB)\n",
       "</pre>\n"
      ],
      "text/plain": [
       "\u001b[1m Non-trainable params: \u001b[0m\u001b[38;5;34m14,714,688\u001b[0m (56.13 MB)\n"
      ]
     },
     "metadata": {},
     "output_type": "display_data"
    }
   ],
   "source": [
    "############################ 5.1.4 ####################################\n",
    "\n",
    "base_model.summary()"
   ]
  },
  {
   "cell_type": "code",
   "execution_count": 19,
   "metadata": {},
   "outputs": [
    {
     "name": "stdout",
     "output_type": "stream",
     "text": [
      "Epoch 1/5\n",
      "\u001b[1m1500/1500\u001b[0m \u001b[32m━━━━━━━━━━━━━━━━━━━━\u001b[0m\u001b[37m\u001b[0m \u001b[1m146s\u001b[0m 96ms/step - accuracy: 0.2699 - loss: 2.1086 - val_accuracy: 0.5337 - val_loss: 1.3050\n",
      "Epoch 2/5\n",
      "\u001b[1m1500/1500\u001b[0m \u001b[32m━━━━━━━━━━━━━━━━━━━━\u001b[0m\u001b[37m\u001b[0m \u001b[1m138s\u001b[0m 92ms/step - accuracy: 0.5625 - loss: 1.2614 - val_accuracy: 0.6304 - val_loss: 1.0874\n",
      "Epoch 3/5\n",
      "\u001b[1m1500/1500\u001b[0m \u001b[32m━━━━━━━━━━━━━━━━━━━━\u001b[0m\u001b[37m\u001b[0m \u001b[1m135s\u001b[0m 90ms/step - accuracy: 0.6201 - loss: 1.1014 - val_accuracy: 0.6813 - val_loss: 0.9565\n",
      "Epoch 4/5\n",
      "\u001b[1m1500/1500\u001b[0m \u001b[32m━━━━━━━━━━━━━━━━━━━━\u001b[0m\u001b[37m\u001b[0m \u001b[1m127s\u001b[0m 85ms/step - accuracy: 0.6588 - loss: 1.0055 - val_accuracy: 0.7129 - val_loss: 0.8795\n",
      "Epoch 5/5\n",
      "\u001b[1m1500/1500\u001b[0m \u001b[32m━━━━━━━━━━━━━━━━━━━━\u001b[0m\u001b[37m\u001b[0m \u001b[1m129s\u001b[0m 86ms/step - accuracy: 0.6942 - loss: 0.9096 - val_accuracy: 0.6876 - val_loss: 0.9121\n",
      "\u001b[1m313/313\u001b[0m \u001b[32m━━━━━━━━━━━━━━━━━━━━\u001b[0m\u001b[37m\u001b[0m \u001b[1m23s\u001b[0m 72ms/step - accuracy: 0.6831 - loss: 0.9336\n",
      "\u001b[1m313/313\u001b[0m \u001b[32m━━━━━━━━━━━━━━━━━━━━\u001b[0m\u001b[37m\u001b[0m \u001b[1m23s\u001b[0m 72ms/step\n"
     ]
    }
   ],
   "source": [
    "############################ 5.1.5 ####################################\n",
    "\n",
    "from tensorflow.keras import layers, models\n",
    "\n",
    "# Purpose: The Flatten layer is used to convert a multi-dimensional input tensor into a one-dimensional tensor.\n",
    "flatten_layer = layers.Flatten()\n",
    "# The Dense layer (also known as a fully connected layer) is a core layer in neural networks where each input node is connected to each output node.\n",
    "# 50: The number of neurons in this layer.\n",
    "dense_layer_1 = layers.Dense(50, activation=\"relu\")\n",
    "dense_layer_2 = layers.Dense(20, activation=\"relu\")\n",
    "# 10: The number of neurons in this layer, which corresponds to the number of classes in the classification task.\n",
    "# For example, in a digit classification task (like MNIST), there are 10 classes (digits 0 through 9).\n",
    "# activation=\"softmax\": The activation function used is Softmax. Softmax converts the outputs into a probability distribution, where the sum of all probabilities is 1.\n",
    "# Each neuron output represents the probability of the input belonging to a particular class.\n",
    "prediction_layer = layers.Dense(10, activation=\"softmax\")\n",
    "\n",
    "model = models.Sequential(\n",
    "    [base_model, flatten_layer, dense_layer_1, dense_layer_2, prediction_layer]\n",
    ")\n",
    "\n",
    "model.compile(\n",
    "    optimizer=\"adam\",\n",
    "    loss=\"categorical_crossentropy\",\n",
    "    metrics=[\"accuracy\"],\n",
    ")\n",
    "\n",
    "es = EarlyStopping(\n",
    "    monitor=\"val_accuracy\", mode=\"max\", patience=5, restore_best_weights=True\n",
    ")\n",
    "\n",
    "start = datetime.datetime.now()\n",
    "\n",
    "history = model.fit(\n",
    "    train_ds,\n",
    "    train_labels,\n",
    "    epochs=5,\n",
    "    validation_split=0.2,\n",
    "    batch_size=32,\n",
    "    callbacks=[es],\n",
    ")\n",
    "\n",
    "score = model.evaluate(test_ds, test_labels, batch_size=32)\n",
    "x_valid_output_images = model.predict(test_ds)\n",
    "\n",
    "# Get training and test loss histories\n",
    "training_loss = history.history[\"loss\"]\n",
    "test_loss = history.history[\"val_loss\"]\n",
    "\n",
    "# Create count of the number of epochs\n",
    "epoch_count = range(1, len(training_loss) + 1)\n"
   ]
  },
  {
   "cell_type": "code",
   "execution_count": 20,
   "metadata": {},
   "outputs": [
    {
     "data": {
      "image/png": "[encoded data removed]",
      "text/plain": [
       "<Figure size 640x480 with 1 Axes>"
      ]
     },
     "metadata": {},
     "output_type": "display_data"
    },
    {
     "data": {
      "image/png": "[encoded data removed]",
      "text/plain": [
       "<Figure size 640x480 with 1 Axes>"
      ]
     },
     "metadata": {},
     "output_type": "display_data"
    },
    {
     "name": "stdout",
     "output_type": "stream",
     "text": [
      "Training time: 0:15:42.111534\n",
      "Test score: 0.8624573349952698\n",
      "Test accuracy: 0.7139999866485596\n"
     ]
    }
   ],
   "source": [
    "############################ 5.1.6 ####################################\n",
    "\n",
    "# Visualize loss history\n",
    "plt.plot(epoch_count, history.history[\"loss\"], \"r--\")\n",
    "plt.plot(epoch_count, history.history[\"val_loss\"], \"b-\")\n",
    "plt.legend([\"Training Loss\", \"Test Loss\"])\n",
    "plt.xlabel(\"Epoch\")\n",
    "plt.ylabel(\"Loss\")\n",
    "plt.show()\n",
    "\n",
    "plt.figure()\n",
    "plt.plot(history.history[\"accuracy\"])\n",
    "plt.plot(history.history[\"val_accuracy\"])\n",
    "plt.title(\"Model Accuracy\")\n",
    "plt.ylabel(\"Accuracy\")\n",
    "plt.xlabel(\"Epoch\")\n",
    "plt.legend([\"Train\", \"Test\"], loc=\"upper left\")\n",
    "plt.show()\n",
    "\n",
    "end = datetime.datetime.now()\n",
    "elapsed = end - start\n",
    "print(\"Training time:\", str(elapsed))\n",
    "print(\"Test score:\", score[0])\n",
    "print(\"Test accuracy:\", score[1])"
   ]
  },
  {
   "cell_type": "code",
   "execution_count": 22,
   "metadata": {},
   "outputs": [
    {
     "data": {
      "image/png": "[encoded data removed]",
      "text/plain": [
       "<Figure size 640x480 with 1 Axes>"
      ]
     },
     "metadata": {},
     "output_type": "display_data"
    },
    {
     "name": "stdout",
     "output_type": "stream",
     "text": [
      "\u001b[1m1/1\u001b[0m \u001b[32m━━━━━━━━━━━━━━━━━━━━\u001b[0m\u001b[37m\u001b[0m \u001b[1m0s\u001b[0m 52ms/step\n",
      "Actual class: [0. 0. 0. 1. 0. 0. 0. 0. 0. 0.]\n",
      "Predicted class: 3\n"
     ]
    }
   ],
   "source": [
    "############################ 5.1.7 ####################################\n",
    "\n",
    "\n",
    "## Loading MNIST dataset\n",
    "(train_ds, train_labels), (test_ds, test_labels) = tf.keras.datasets.mnist.load_data()\n",
    "\n",
    "## Displaying an image\n",
    "image_index = 10\n",
    "plt.imshow(train_ds[image_index], cmap=\"gray\")\n",
    "plt.axis(\"off\")\n",
    "plt.show()\n",
    "\n",
    "## Rescaling images\n",
    "train_ds = train_ds / 255.0\n",
    "test_ds = test_ds / 255.0\n",
    "\n",
    "## Remaining code for model training and evaluation\n",
    "# (Please copy the code provided in the previous response here)\n",
    "\n",
    "# Use the image for prediction\n",
    "input_image = tf.image.grayscale_to_rgb(tf.expand_dims(train_ds[image_index], -1))\n",
    "input_image = tf.image.resize(input_image, (32, 32))\n",
    "input_image = preprocess_input(input_image)\n",
    "input_image = tf.expand_dims(input_image, axis=0)\n",
    "\n",
    "\n",
    "## Transforming labels to correct format\n",
    "train_labels = to_categorical(train_labels, num_classes=10)\n",
    "test_labels = to_categorical(test_labels, num_classes=10)\n",
    "\n",
    "predicted_label = model.predict(input_image)\n",
    "predicted_class = tf.argmax(predicted_label, axis=1).numpy()[0]\n",
    "\n",
    "actual_class = train_labels[image_index]\n",
    "\n",
    "print(\"Actual class:\", actual_class)\n",
    "print(\"Predicted class:\", predicted_class)"
   ]
  }
 ],
 "metadata": {
  "kernelspec": {
   "display_name": "opencv_env",
   "language": "python",
   "name": "python3"
  },
  "language_info": {
   "codemirror_mode": {
    "name": "ipython",
    "version": 3
   },
   "file_extension": ".py",
   "mimetype": "text/x-python",
   "name": "python",
   "nbconvert_exporter": "python",
   "pygments_lexer": "ipython3",
   "version": "3.9.19"
  }
 },
 "nbformat": 4,
 "nbformat_minor": 2
}
